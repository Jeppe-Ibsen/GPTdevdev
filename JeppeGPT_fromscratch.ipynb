{
  "nbformat": 4,
  "nbformat_minor": 0,
  "metadata": {
    "colab": {
      "provenance": [],
      "gpuType": "T4",
      "authorship_tag": "ABX9TyPrWgL7izekDWJr79Q6XJMY",
      "include_colab_link": true
    },
    "kernelspec": {
      "name": "python3",
      "display_name": "Python 3"
    },
    "language_info": {
      "name": "python"
    },
    "accelerator": "GPU"
  },
  "cells": [
    {
      "cell_type": "markdown",
      "metadata": {
        "id": "view-in-github",
        "colab_type": "text"
      },
      "source": [
        "<a href=\"https://colab.research.google.com/github/Jeppe-Ibsen/GPTdevdev/blob/master/JeppeGPT_fromscratch.ipynb\" target=\"_parent\"><img src=\"https://colab.research.google.com/assets/colab-badge.svg\" alt=\"Open In Colab\"/></a>"
      ]
    },
    {
      "cell_type": "code",
      "execution_count": 1,
      "metadata": {
        "colab": {
          "base_uri": "https://localhost:8080/"
        },
        "id": "3vVzyBOSVEaC",
        "outputId": "dfea1383-b4bb-46e5-ce89-067362fbc495"
      },
      "outputs": [
        {
          "output_type": "stream",
          "name": "stdout",
          "text": [
            "Cloning into 'GPTdevdev'...\n",
            "remote: Enumerating objects: 677, done.\u001b[K\n",
            "remote: Counting objects: 100% (677/677), done.\u001b[K\n",
            "remote: Compressing objects: 100% (299/299), done.\u001b[K\n",
            "remote: Total 677 (delta 390), reused 646 (delta 374), pack-reused 0\u001b[K\n",
            "Receiving objects: 100% (677/677), 7.32 MiB | 4.65 MiB/s, done.\n",
            "Resolving deltas: 100% (390/390), done.\n"
          ]
        }
      ],
      "source": [
        "!git clone https://github.com/Jeppe-Ibsen/GPTdevdev"
      ]
    },
    {
      "cell_type": "code",
      "source": [
        "!cd ./GPTdevdev/data/TinyStories2Jeppe/ && python prepare.py"
      ],
      "metadata": {
        "colab": {
          "base_uri": "https://localhost:8080/"
        },
        "id": "_n3BUT-cbGGc",
        "outputId": "108dc861-50e1-4b81-d6b1-9781994e37d7"
      },
      "execution_count": 2,
      "outputs": [
        {
          "output_type": "stream",
          "name": "stdout",
          "text": [
            "length of dataset in characters: 22,216,841\n",
            "all the unique characters: \n",
            " !\"'*,-./0123456789:;<=>?`abcdefghijklmnopqrstuvwxyzéñ–—‘’“”…\n",
            "vocab size: 65\n",
            "train has 19,995,156 tokens\n",
            "val has 2,221,685 tokens\n"
          ]
        }
      ]
    },
    {
      "cell_type": "code",
      "source": [
        "!cd ./nanoGPT/ && python train.py --dtype=float16 --dataset=shakespeare_char --block_size=900 --batch_size=8 --n_layer=12 --n_head=2 --n_embd=480 --dropout=0.0 --gradient_accumulation_steps=1 --learning_rate=1e-3 --warmup_iters=10 --min_lr=1e-4 --eval_interval=500 --init_from=scratch"
      ],
      "metadata": {
        "colab": {
          "base_uri": "https://localhost:8080/"
        },
        "id": "sJb4Bs8MbUmj",
        "outputId": "0240a008-c24b-46f6-c893-d35ab6afcce6"
      },
      "execution_count": null,
      "outputs": [
        {
          "output_type": "stream",
          "name": "stdout",
          "text": [
            "/bin/bash: line 1: cd: ./nanoGPT/: No such file or directory\n"
          ]
        }
      ]
    },
    {
      "cell_type": "code",
      "source": [
        "!cd ./nanoGPT && python sample.py --dtype=float16 --num_samples=3 --max_new_tokens=700 --start=\"once there was a smart boy named jeppe, he had a girlfriend called kia. together they \""
      ],
      "metadata": {
        "colab": {
          "base_uri": "https://localhost:8080/"
        },
        "id": "igpdHVJ6d6RG",
        "outputId": "d07614c4-8377-4928-95e9-35b615b0af74"
      },
      "execution_count": null,
      "outputs": [
        {
          "output_type": "stream",
          "name": "stdout",
          "text": [
            "Overriding: dtype = float16\n",
            "Overriding: num_samples = 3\n",
            "Overriding: max_new_tokens = 700\n",
            "Overriding: start = once there was a smart boy named jeppe, he had a girlfriend called kia. together they \n",
            "number of parameters: 8.32M\n",
            "Loading meta from data/shakespeare_char/meta.pkl...\n",
            "once there was a smart boy named jeppe, he had a girlfriend called kia. together they played with a big, red ball all day.\n",
            "one day, jeppea and kia found a hard stick on the ground. they wanted to pick it up and see how it rubber it roar and blow. suddenly, the stick was taller and it flew into the sky. \"wow, this hard stick will rot!\" said jepper.\n",
            "but when jepper picked up the stick, he intil he heard a sound. \"don't be so scared, kids!\" he shouted. \"woof!\" replied juice, rolling the stick to be his secret. \n",
            "then, jepper's mommy came into the room and saw the weather on the floor. she was not scared. \"it's okay, jepper,\" she said. \"we can get the stick back tomorrow.\"\n",
            "jepper and kite were happy to have the stick back. they had been brave and helped each other with the weather\n",
            "---------------\n",
            "once there was a smart boy named jeppe, he had a girlfriend called kia. together they went on the trail, kia and ben thought it would be fun.\n",
            "they thought it was fun to play and this trail every day. they practiced together every day and made sure everyone could have fun. the other kids loved the soup and kia was very happy. they wanted to join their other kids too, and so they said goodbye to the trail.\n",
            "<*>\n",
            "once upon a time, there was a bright sun on a rock. the sun was bright, and the sky was blue. the sun was very hot, and the sun was hot. the sky was dry and marching everywhere.\n",
            "one day, a new boy came to visit. the new boy was very happy and excited. he wanted to play with the kids with his even toys. the new boy took turns wearing his ice cream and singing a special ice\n",
            "---------------\n",
            "once there was a smart boy named jeppe, he had a girlfriend called kia. together they went to the store to look at. they bought and bit fish and fish. they were both so happy with their new best friend.\n",
            "<*>\n",
            "once upon a time, there was a little girl named amy. amy loved to play with her toys. one day, she found a toy that was on the floor. it was a magic star that could talk. amy was very happy and wanted to see how could wear.\n",
            "but amy did not know where the star come. she took the star and went to her room to find her burrow either. she found her burrow everywhere she went. amy was so happy and she wanted to play with the hide burrow too.\n",
            "amy showed her burrow to the burrow. but, she did not know which burrow to grow. the burrow was a real star! amy was sad and wanted to play\n",
            "---------------\n"
          ]
        }
      ]
    },
    {
      "cell_type": "code",
      "source": [
        "!cd ./nanoGPT/config && python train_shakespeare_char.py"
      ],
      "metadata": {
        "id": "MSrUO9rGgXA5"
      },
      "execution_count": null,
      "outputs": []
    }
  ]
}